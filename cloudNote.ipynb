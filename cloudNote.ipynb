{
 "cells": [
  {
   "cell_type": "code",
   "execution_count": null,
   "metadata": {},
   "outputs": [],
   "source": [
    "function chat(message, temps::Float64)\n",
    "    texte = open(\"file\",\"w\")\n",
    "    write(texte, message)\n",
    "    write(texte, \"\\n\")\n",
    "    close(texte)\n",
    "    texte = open(\"file\",\"r\")\n",
    "    while !eof(texte)\n",
    "        lettre = read(texte, Char)\n",
    "        print(lettre)\n",
    "        sleep(temps)\n",
    "    end\n",
    "    close(texte)\n",
    "    rm(\"file\")\n",
    "end\n",
    "datas = open(\"data\",\"w\")\n",
    "write(datas, \"titre d'accueil dans votre bloc-note perso\\nmots latents sur la zone de saisie du mot de passe\\nmot à inscrire sur le bouton qui va servir à valider le mot de passe\\nnombre de secondes avant le rafraîchissement automatique du bloc-note\\ntitre de ton bloc-note\\nmots latents dans la zone de saisie des notes\\nmot à inscrire sur le bouton d'envoi\\nmot à inscrire sur le bouton de rafraîchissement\\nmot à inscrire sur le bouton de déconnexion\")\n",
    "close(datas)\n",
    "chat(\"Salut à vous!\\n Je vais me charger de vous créer un cloud bloc-note \\n  qui vous permettra de conserver vos notes textuelles sur le Cloud\\n    Veuillez remplir les fichiers qui viennent juste d'être créés \\n    avec les données correspondantes\\n\", 0.015)\n",
    "chat(\"Pressez la touche 'c' lorsque vous aurez terminé svp\", 0.015)\n",
    "datas = readline()\n",
    "while uppercase(datas) != uppercase(\"c\")\n",
    "    chat(\"Il faut presser la touche 'c' ; pas $datas\", 0.011)\n",
    "    global datas = readline()\n",
    "end\n",
    "datas = open(\"data\",\"r\")\n",
    "data = []\n",
    "for i in eachline(datas)\n",
    "    push!(data, i)\n",
    "end\n",
    "close(datas)\n",
    "titre_log = data[1]\n",
    "pswd_txt = data[2]\n",
    "valid_word = data[3]\n",
    "frequency = data[4]\n",
    "titre_notes = data[5]\n",
    "filigran_text = data[6]\n",
    "post_word = data[7]\n",
    "fresh = data[8]\n",
    "logout_but = data[9]\n",
    "chat(\"Définissez un mot de passe pour votre cloud bloc-note\", 0.012)\n",
    "mot_de_passe = readline()\n",
    "loginpage = \"\"\"<?php\\nsession_start();\\n\\$_SESSION[\"motdepasse\"] = \"$mot_de_passe\";\\n\\$_SESSION[\"passmot\"] = \"\";\\n?>\\n<!DOCTYPE html style=\"backdrop-filter: blur(10px);\">\\n<html>\\n<head>\\n<meta charset=\"UTF-8\">\\n<link rel=\"stylesheet\" href=\"https://3uitnolvypnnvmkvd3asra.on.drv.tw/cloudNote/style.css\">\\n<link rel=\"icon\" href=\"https://3uitnolvypnnvmkvd3asra.on.drv.tw/kits/vgift.png\">\\n<title>Private Note #Powered by V.I.A.A</V></title>\\n</head>\\n<body style=\"backdrop-filter: blur(10px);\">\\n<h1>$titre_log</h1>\\n<form method=\"post\" class=\"message-form\">\\n    <input type=\"password\" placeholder=\"$pswd_txt\" name=\"pswd\" id=\"message\" class=\"message-input\">\\n    <p>\\n    <button type=\"submit\" class=\"send-button\">$valid_word</button>\\n    <?php\\n        if (isset(\\$_POST['pswd'])) {\\n            if (\\$_POST['pswd'] == \\$_SESSION[\"motdepasse\"]) {\\n                \\$_SESSION[\"passmot\"] = \\$_POST['pswd'];\\n                header(\"Location: chat.php#lastlast\");\\n                exit();\\n            } else {\\n                echo '<div style=\"background-color: transparent; backdrop-filter: blur(5px);\"><h1>non ... !</h1></div>';\\n            }\\n        }\\n    ?>\\n    </p>\\n</form>\\n</body>\\n</html>\"\"\"\n",
    "notepage = \"\"\"<?php\\nsession_start();\\nif (empty(\\$_SESSION[\"motdepasse\"]) || empty(\\$_SESSION[\"passmot\"])) {\\n    header(\"Location: index.php\");\\n}\\nif (\\$_SESSION[\"motdepasse\"] != \\$_SESSION[\"passmot\"]) {\\n    header(\"Location: index.php\");\\n}\\n?>\\n\\n<!DOCTYPE html>\\n<html>\\n<head>\\n<meta http-equiv=\"refresh\" content=\"$frequency\">\\n<meta charset=\"UTF-8\">\\n<link rel=\"stylesheet\" href=\"https://3uitnolvypnnvmkvd3asra.on.drv.tw/cloudNote/style.css\">\\n<link rel=\"icon\" href=\"https://3uitnolvypnnvmkvd3asra.on.drv.tw/kits/vgift.png\">\\n<title>Private notes</title>\\n</head>\\n<body>\\n<h1>$titre_notes</h1>\\n<div id=\"messages\" class=\"message-list\">\\n    <?php\\n        \\$filepath = 'messages.txt';\\n        \\$messages = array();\\n        if (file_exists(\\$filepath) && is_readable(\\$filepath)) {\\n            \\$messages = array_reverse(file(\\$filepath, FILE_IGNORE_NEW_LINES));\\n        }\\n        if (count(\\$messages) === 0) {\\n            echo \"<p>N'hésitez pas à écrire quelque chose ...</p>\";\\n        } else {\\n            foreach (array_reverse(\\$messages) as \\$message) {\\n                echo '<div class=\"message\">' . htmlspecialchars(\\$message) . '</div>';\\n            }\\n        }\\n    ?>\\n    <br id=\"lastlast\">\\n</div>\\n<form method=\"post\" class=\"message-form\">\\n    <textarea placeholder=\"$filigran_text\" id=\"message\" name=\"message\" rows=\"5\" cols=\"50\" class=\"message-input\"></textarea>\\n    <p>\\n    <button type=\"submit\" name=\"fresh\" class=\"send-button\">$post_word</button>\\n    <button name=\"fresh\" class=\"send-button\">$fresh</button>\\n    <?php\\n        if (isset(\\$_POST['fresh'])) {\\n            header(\"Location: chat.php#lastlast\");\\n        }\\n    ?>\\n    </p>\\n</form>\\n<?php\\n    if (isset(\\$_POST['message'])) {\\n        \\$new_message = trim(\\$_POST['message']);\\n        if (!empty(\\$new_message)) {\\n            \\$file = fopen(\\$filepath, 'a');\\n            fwrite(\\$file, \\$new_message . PHP_EOL);\\n            fclose(\\$file);\\n            header('Location: ' . \\$_SERVER['PHP_SELF']);\\n            exit;\\n        }\\n    }\\n?>\\n<form method=\"post\" class=\"message-form\">\\n    <button type=\"submit\" name=\"sortie\" class=\"exit-button\">$logout_but</button>\\n    <?php\\n        if (isset(\\$_POST['sortie'])) {\\n                header(\"Location: index.php\");\\n                session_destroy();\\n                exit();\\n        }\\n    ?>\\n</form>\\n</body>\\n</html>\"\"\"\n",
    "datas = open(\"index.php\",\"w\")\n",
    "write(datas, loginpage)\n",
    "close(datas)\n",
    "datas = open(\"chat.php\",\"w\")\n",
    "write(datas, notepage)\n",
    "close(datas)\n",
    "chat(\"Votre cloud bloc-note est prêt !\\n Nous nous chargerons de le mettre sur le cloud.\\n  Envoyez-nous ces 2 fichiers par mail à l'adresse toolsgifts@gmail.com :\\n\\n       index.php et chat.php\", 0.015)"
   ]
  }
 ],
 "metadata": {
  "kernelspec": {
   "display_name": "Julia 1.8.5",
   "language": "julia",
   "name": "julia-1.8"
  },
  "language_info": {
   "file_extension": ".jl",
   "mimetype": "application/julia",
   "name": "julia",
   "version": "1.8.5"
  },
  "orig_nbformat": 4
 },
 "nbformat": 4,
 "nbformat_minor": 2
}
